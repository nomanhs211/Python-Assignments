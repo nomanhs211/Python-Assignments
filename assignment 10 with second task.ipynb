{
 "cells": [
  {
   "cell_type": "code",
   "execution_count": 39,
   "metadata": {},
   "outputs": [
    {
     "name": "stdout",
     "output_type": "stream",
     "text": [
      "what to print: Sylani\n",
      "Sylani   Sylani   Sylani   Sylani   Sylani   \n",
      "Sylani   Sylani   Sylani   Sylani   Sylani   \n",
      "Sylani   Sylani   Sylani   Sylani   Sylani   \n",
      "Sylani   Sylani   Sylani   Sylani   Sylani   \n"
     ]
    }
   ],
   "source": [
    "#second task TABLE:input function and nested loop\n",
    "\n",
    "\n",
    "l=input(\"what to print: \")\n",
    "for a in range(4):\n",
    "    for b in range(5):\n",
    "        print(l, end=\"   \")\n",
    "        \n",
    "    print(\"\")\n",
    "  \n",
    "   \n",
    "        "
   ]
  },
  {
   "cell_type": "code",
   "execution_count": 40,
   "metadata": {},
   "outputs": [
    {
     "name": "stdout",
     "output_type": "stream",
     "text": [
      "output#01\n",
      "\n",
      "Sylani Mass IT Training\n",
      " \tSylani Mass IT Training\n",
      "Sylani Mass IT Training\n",
      "\tSylani Mass IT Training\n",
      "Sylani Mass IT Training\n",
      "\tSylani Mass IT Training\n",
      "Sylani Mass IT Training\n",
      "\tSylani Mass IT Training\n",
      "\tSylani Mass IT Training\n",
      "Sylani Mass IT Training\n",
      "\tSylani Mass IT Training\n",
      "\n",
      "output#02\n",
      "\n",
      "\n",
      "\n",
      "Sylani Mass IT Training      Sylani Mass IT Training\n",
      "Sylani Mass IT Training      Sylani Mass IT Training\n",
      "Sylani Mass IT Training      Sylani Mass IT Training\n",
      "Sylani Mass IT Training      Sylani Mass IT Training\n",
      "\n",
      "output#03\n",
      "\n",
      "\n",
      "\n",
      "\t\tSylani Mass IT Training\n",
      "Sylani Mass IT Training      Sylani Mass IT Training\n",
      "\t\tSylani Mass IT Training\n",
      "Sylani Mass IT Training      Sylani Mass IT Training\n",
      "\t\tSylani Mass IT Training\n",
      "Sylani Mass IT Training      Sylani Mass IT Training\n",
      "\t\tSylani Mass IT Training\n",
      "Sylani Mass IT Training      Sylani Mass IT Training\n",
      "\t\tSylani Mass IT Training\n",
      "Sylani Mass IT Training      Sylani Mass IT Training\n",
      "\n",
      "output#04\n",
      "\n",
      "\n",
      "\n",
      "Sylani Mass IT Training\n",
      "\tSylani Mass IT Training\n",
      "\t\tSylani Mass IT Training\n",
      "\t\t\tSylani Mass IT Training\n",
      "\t\tSylani Mass IT Training\n",
      "\tSylani Mass IT Training\n",
      "Sylani Mass IT Training\n"
     ]
    }
   ],
   "source": [
    "#task 1\n",
    "#output 1\n",
    "A = \"output#01\"\n",
    "print(A)\n",
    "a = \"\\nSylani Mass IT Training\\n \\tSylani Mass IT Training\\nSylani Mass IT Training\\n\\tSylani Mass IT Training\\nSylani Mass IT Training\\n\\tSylani Mass IT Training\\nSylani Mass IT Training\\n\\tSylani Mass IT Training\\n\\tSylani Mass IT Training\\nSylani Mass IT Training\\n\\tSylani Mass IT Training\"\n",
    "print(a)\n",
    "\n",
    "#output 2\n",
    "B = \"\\noutput#02\"\n",
    "print(B)\n",
    "b = \"\\n\\n\\nSylani Mass IT Training\" + \"      \" + \"Sylani Mass IT Training\\nSylani Mass IT Training\" + \"      \" + \"Sylani Mass IT Training\\nSylani Mass IT Training\" + \"      \" + \"Sylani Mass IT Training\\nSylani Mass IT Training\" + \"      \" + \"Sylani Mass IT Training\"\n",
    "print(b)\n",
    "\n",
    "#output 3\n",
    "C = \"\\noutput#03\"\n",
    "print(C)\n",
    "c = \"\\n\\n\\n\\t\\tSylani Mass IT Training\\nSylani Mass IT Training\" + \"      \" + \"Sylani Mass IT Training\\n\\t\\tSylani Mass IT Training\\nSylani Mass IT Training\" + \"      \" + \"Sylani Mass IT Training\\n\\t\\tSylani Mass IT Training\\nSylani Mass IT Training\" + \"      \" + \"Sylani Mass IT Training\\n\\t\\tSylani Mass IT Training\\nSylani Mass IT Training\" + \"      \" + \"Sylani Mass IT Training\\n\\t\\tSylani Mass IT Training\\nSylani Mass IT Training\" + \"      \" + \"Sylani Mass IT Training\"  \n",
    "print(c)\n",
    "\n",
    "#OUTPUT 4\n",
    "D = \"\\noutput#04\"\n",
    "print(D)\n",
    "d = \"\\n\\n\\nSylani Mass IT Training\\n\\tSylani Mass IT Training\\n\\t\\tSylani Mass IT Training\\n\\t\\t\\tSylani Mass IT Training\\n\\t\\tSylani Mass IT Training\\n\\tSylani Mass IT Training\\nSylani Mass IT Training\"\n",
    "print(d)\n"
   ]
  },
  {
   "cell_type": "code",
   "execution_count": null,
   "metadata": {},
   "outputs": [],
   "source": []
  }
 ],
 "metadata": {
  "kernelspec": {
   "display_name": "Python 3",
   "language": "python",
   "name": "python3"
  },
  "language_info": {
   "codemirror_mode": {
    "name": "ipython",
    "version": 3
   },
   "file_extension": ".py",
   "mimetype": "text/x-python",
   "name": "python",
   "nbconvert_exporter": "python",
   "pygments_lexer": "ipython3",
   "version": "3.7.6"
  }
 },
 "nbformat": 4,
 "nbformat_minor": 4
}
